{
 "cells": [
  {
   "cell_type": "markdown",
   "id": "7009b66d",
   "metadata": {},
   "source": [
    "# HOMER DATA PROCESSING SCRIPT\n",
    "The goal of this script is to take the output file of HOMER Pro Batch Runs (.xlsx file containing one optimal case/sheet) and produce a condensed data set + plots.\n",
    "\n",
    "General flow:\n",
    "1) Run HOMER study via batch process. Select \"export results\" and name the file.\n",
    "\n",
    "\n",
    "2) Import file to this script.\n",
    "\n",
    "\n",
    "3) Use Pandas to pull .xlsx data into a more usable format. \n",
    "\n",
    "\n",
    "4) Use collected data to build plots. \n",
    "\n",
    "Goals:\n",
    "\n",
    "\n",
    "Have this script take a large HOMER study (>100 cases) and build one easily accessible database.\n",
    "\n",
    "\n",
    "Potentially couple this script with a HOMER input reading script to do cartography w/HOMER geography + results.\n"
   ]
  },
  {
   "cell_type": "code",
   "execution_count": 1,
   "id": "8fe8a4fa",
   "metadata": {},
   "outputs": [],
   "source": [
    "# Block of dependencies and working directory\n",
    "import matplotlib.pyplot as plt\n",
    "import conda\n",
    "import numpy  as np \n",
    "import pandas as pd\n",
    "import os \n",
    "import shutil\n",
    "directory = 'd:/repo/homer/ClimateStudies/OutputProcessing/Data' #home PC\n",
    "#directory = 'c:/repo/homer/ClimateStudies/OutputProcessing/Data' #laptop"
   ]
  },
  {
   "cell_type": "markdown",
   "id": "ad0e07c0",
   "metadata": {},
   "source": [
    "## Following this guide for xlsx reading\n",
    "https://stackoverflow.com/questions/26521266/using-pandas-to-pd-read-excel-for-multiple-worksheets-of-the-same-workbook"
   ]
  },
  {
   "cell_type": "code",
   "execution_count": 2,
   "id": "d58c3f0f",
   "metadata": {
    "scrolled": true
   },
   "outputs": [],
   "source": [
    "# reads, maps all sheets \n",
    "files = os.listdir(directory)\n",
    "output_df = {} #creates empty dictionary\n",
    "names = [] #creates empty list for future name storage\n",
    "for file in files:\n",
    "    if file.endswith('.xlsx'):\n",
    "        xls = pd.ExcelFile(directory + '/' + file) #reads file\n",
    "        names = names + xls.sheet_names\n",
    "        for sheet_name in xls.sheet_names: #pulls individual sheets\n",
    "            output_df[sheet_name] = xls.parse(sheet_name) #puts each sheet into a dictionary w/key \"sheet_name\"\n",
    "#display(output_df[sheet_name])"
   ]
  },
  {
   "cell_type": "code",
   "execution_count": 8,
   "id": "dbf07839",
   "metadata": {},
   "outputs": [],
   "source": [
    "#pulling interesting data points from each \n",
    "opt_out = pd.DataFrame(columns=['Architecture/PV\\n(kW)', 'Architecture/G1500', 'Architecture/GenLarge\\n(kW)', 'Architecture/1kWh LI',\n",
    "                                                 'Cost/COE\\n($)'])\n",
    "n = len(names)\n",
    "for i in range(n):\n",
    "    name = names[i] # Grabs Sheet Name\n",
    "    KCC = name[-3:]     #grabs KCC from last 3 values\n",
    "    if KCC[-2:].casefold() == ('Af'.casefold()):\n",
    "            KCC = 'Af'\n",
    "            Location = name[5:-2]\n",
    "            case_num = name[:5] # Grabs Case Number \n",
    "    elif KCC[-2:].casefold() == 'Am'.casefold():\n",
    "            KCC = 'Am'\n",
    "            Location = name[5:-2]\n",
    "            case_num = name[:5] # Grabs Case Number \n",
    "    else: \n",
    "            Location = name[5:-3]\n",
    "            case_num = name[:5] # Grabs Case Number \n",
    "    KCC = KCC.lower()\n",
    "\n",
    "    #display(KCC[-2:])\n",
    "    filtered_out = output_df[name].filter(['Architecture/PV\\n(kW)', 'Architecture/G1500', 'Architecture/GenLarge\\n(kW)', 'Architecture/1kWh LI',\n",
    "                                                 'Cost/COE\\n($)']) #Filtering objects of interest\n",
    "    #display(filtered_out['Architecture/GenLarge\\n(kW)'][2])\n",
    "    if filtered_out['Architecture/GenLarge\\n(kW)'][2] >= 2000:\n",
    "        filtered_out['GenMin'] = 'False' #flags case for further cost increases\n",
    "        if case_num == 'Case4':\n",
    "            shutil.copyfile('d:/repo/homer/ClimateStudies/ProductionCases/Case4/' + name + '.homer', directory + '/NewCase/' + 'Case5' + name[5:] + '.homer')\n",
    "    else: \n",
    "        filtered_out['GenMin'] = 'True' #nuclear cost is \"maxed out\"\n",
    "    filtered_out['CaseName'] = Location #adding actual case name to series\n",
    "    filtered_out['CaseNum'] = case_num # adding case num to series\n",
    "    filtered_out['KCC'] = KCC\n",
    "    framed = filtered_out.iloc[[0]] #making the actual df\n",
    "    framed.set_index(['CaseNum','CaseName'], inplace=True, drop=True) #building df w/ casename and num\n",
    "    opt_out = pd.concat([framed,opt_out]) #concating all DFs together\n",
    "opt_out = opt_out[ ['KCC'] + [ col for col in opt_out.columns if col != 'KCC' ] ] #sorting df to have KCC first\n",
    "opt_out = opt_out.sort_index()\n",
    "opt_out.to_excel(\"LocationalVarianceTrimmed.xlsx\")\n",
    "#display(opt_out)\n",
    "#display()"
   ]
  },
  {
   "cell_type": "code",
   "execution_count": null,
   "id": "12987474",
   "metadata": {},
   "outputs": [],
   "source": [
    "#for index = opt_out.ind\n",
    "#display(pd.MultiIndex.get_level_values(opt_out('CaseNum')))\n",
    "Case1 = opt_out.loc[(\"Case1\",slice(None))]\n",
    "Case2 = opt_out.loc[(\"Case2\",slice(None))]\n",
    "Case3 = opt_out.loc[(\"Case3\",slice(None))]\n",
    "Case4 = opt_out.loc[(\"Case4\",slice(None))]\n",
    "display(Case4)\n",
    "#Case1.plot(y='Cost/COE\\n($)', use_index=True)"
   ]
  },
  {
   "cell_type": "code",
   "execution_count": null,
   "id": "7c5fd920",
   "metadata": {},
   "outputs": [],
   "source": [
    "fig = plt.figure()\n",
    "fig, ax=plt.subplots(figsize=(24,12))\n",
    "ax.scatter(Case1.index.values,Case1['Cost/COE\\n($)']*1000)\n",
    "ax.scatter(Case1.index.values,Case2['Cost/COE\\n($)']*1000)\n",
    "ax.scatter(Case1.index.values,Case3['Cost/COE\\n($)']*1000)\n",
    "ax.scatter(Case1.index.values,Case4['Cost/COE\\n($)']*1000)\n",
    "ax.legend(['NoNuclear', 'LowCostNuclear', 'MidCostNuclear', 'HighCostNuclear'], fontsize='large')\n",
    "plt.ylabel('Cost [\\$/MWhre]')\n",
    "plt.xlabel('Location')\n",
    "plt.xticks(rotation=90);\n",
    "ax.grid(True)\n"
   ]
  },
  {
   "cell_type": "code",
   "execution_count": null,
   "id": "039bd6e1",
   "metadata": {},
   "outputs": [],
   "source": [
    "m = len(Case2)\n",
    "fig = plt.figure(figsize=(24,12))\n",
    "barWidth = 0.25\n",
    "# Grabbing Generator Size Data\n",
    "bars1 = Case2[\"Architecture/GenLarge\\n(kW)\"]\n",
    "bars2 = Case3[\"Architecture/GenLarge\\n(kW)\"]\n",
    "bars3 = Case4[\"Architecture/GenLarge\\n(kW)\"]\n",
    "#ranges\n",
    "r1 = np.arange(m)\n",
    "r2 = [x+barWidth for x in r1]\n",
    "r3 = [x+barWidth for x in r2]\n",
    "\n",
    "# Plotting\n",
    "plt.bar(r1, bars1, width=barWidth, edgecolor='white', label='LowCostNuclear')\n",
    "plt.bar(r2, bars2, width=barWidth, edgecolor='white', label='MidCostNuclear')\n",
    "plt.bar(r3, bars3, width=barWidth, edgecolor='white', label='HighCostNuclear')\n",
    "# Add xticks on the middle of the group bars\n",
    "plt.xlabel('Location', fontweight='bold')\n",
    "plt.ylabel('Microreactor Capacity [MW]', fontweight='bold')\n",
    "plt.xticks([r + barWidth for r in range(m)], Case2.index.values)\n",
    "plt.xticks(rotation=90);\n",
    "plt.grid(True)\n",
    " \n"
   ]
  },
  {
   "cell_type": "code",
   "execution_count": null,
   "id": "99f90681",
   "metadata": {},
   "outputs": [],
   "source": []
  }
 ],
 "metadata": {
  "kernelspec": {
   "display_name": "Python 3 (ipykernel)",
   "language": "python",
   "name": "python3"
  },
  "language_info": {
   "codemirror_mode": {
    "name": "ipython",
    "version": 3
   },
   "file_extension": ".py",
   "mimetype": "text/x-python",
   "name": "python",
   "nbconvert_exporter": "python",
   "pygments_lexer": "ipython3",
   "version": "3.9.7"
  }
 },
 "nbformat": 4,
 "nbformat_minor": 5
}
