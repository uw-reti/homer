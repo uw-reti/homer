{
 "cells": [
  {
   "cell_type": "markdown",
   "id": "4015e1f2",
   "metadata": {},
   "source": [
    "# Zip folder unpacking script\n",
    "This script will do the following operations in order:\n",
    "Scan a folder\n",
    "create new calculation folder\n",
    "Loop the following actions for each homer script\n",
    "\n",
    "\n",
    "    Unseal homer template file (.homer -> .zip)\n",
    "    \n",
    "    \n",
    "    Unpack zip file (.zip -> normal directory)\n",
    "    \n",
    "    \n",
    "    Open 'problem' file\n",
    "    \n",
    "    \n",
    "    ####### NOT FOR THIS SCRIPT modify 'problem' file\n",
    "    \n",
    "    \n",
    "    Repack zip file (normal directory -> .zip)\n",
    "    \n",
    "    \n",
    "    Reseal homer file (.zip -> .homer)\n",
    "    \n",
    "    \n",
    "    store updated input file in calculation folder\n",
    "    \n",
    "    \n",
    "    end "
   ]
  },
  {
   "cell_type": "code",
   "execution_count": 63,
   "id": "6f69d8d8",
   "metadata": {},
   "outputs": [
    {
     "data": {
      "text/plain": [
       "['Case1BurlingtonVTDfa.homer',\n",
       " 'Case1ChicagoDfa.homer',\n",
       " 'Case1ColumbusOHDfa.homer',\n",
       " 'Case1DesMoinesIADfa.homer',\n",
       " 'Case1DetroitMIDfa.homer',\n",
       " 'Case1LincolnNEDfa.homer',\n",
       " 'Case1SouthBendINDfa.homer']"
      ]
     },
     "metadata": {},
     "output_type": "display_data"
    }
   ],
   "source": [
    "# finding all noteworthy files\n",
    "import os\n",
    "import numpy as np \n",
    "import zipfile\n",
    "import shutil\n",
    "import zlib\n",
    "import pathlib \n",
    "import subprocess\n",
    "folder = 'C:/repo/homer/ClimateStudies/XPathTesting/zipfoldertesting'\n",
    "files = [f for f in os.listdir(folder) if f.endswith('.homer')]\n",
    "n_files = np.size(files)\n",
    "display(files)"
   ]
  },
  {
   "cell_type": "code",
   "execution_count": 64,
   "id": "e80036ec",
   "metadata": {},
   "outputs": [],
   "source": [
    "# Unsealing HOMER template files (.homer -> .zip)\n",
    "for i in range(len(files)):\n",
    "    file = files[i]\n",
    "    base = os.path.splitext(file)[0]\n",
    "    os.rename(file, base + '.zip')"
   ]
  },
  {
   "cell_type": "code",
   "execution_count": 65,
   "id": "d9c91edc",
   "metadata": {},
   "outputs": [],
   "source": [
    "# Unpack zip file (.zip -> normal directory)\n",
    "files = [f for f in os.listdir(folder) if f.endswith('.zip')]\n",
    "n_files = np.size(files)\n",
    "for i in range(len(files)):\n",
    "    file = files[i]\n",
    "    base = os.path.splitext(file)[0]\n",
    "    with zipfile.ZipFile(file, 'r') as zip_ref:\n",
    "        zip_ref.extractall(base + 'TEMP')\n",
    "    #os.remove(file)\n",
    "# Opening each individiual 'problem' file after extraction\n",
    "    "
   ]
  },
  {
   "cell_type": "code",
   "execution_count": 66,
   "id": "1cfa6a98",
   "metadata": {},
   "outputs": [
    {
     "data": {
      "text/plain": [
       "['.ipynb_checkpoints',\n",
       " 'Case1BurlingtonVTDfa.zip',\n",
       " 'Case1ChicagoDfa.zip',\n",
       " 'Case1ColumbusOHDfa.zip',\n",
       " 'Case1DesMoinesIADfa.zip',\n",
       " 'Case1DetroitMIDfa.zip',\n",
       " 'Case1LincolnNEDfa.zip',\n",
       " 'Case1SouthBendINDfa.zip',\n",
       " 'ZipPackager.ipynb']"
      ]
     },
     "metadata": {},
     "output_type": "display_data"
    }
   ],
   "source": [
    "#Repack zip file (normal directory -> .zip)\n",
    "## THIS STEP CURRENTLY BREAKS THE HOMER FILE\n",
    "## Try using zipcode compression \n",
    "files = [f for f in os.listdir(folder) if f.endswith('TEMP')]\n",
    "#directory = pathlib.Path('zipfoldertesting/') ## NEEDS TO BE In FOR LOOP, DIRECTORY -> zip file\n",
    "for i in range(len(files)):\n",
    "    file = files[i]\n",
    "    directory = pathlib.Path(file)\n",
    "    basefile = file.replace('TEMP','')\n",
    "    subprocess.run([\"powershell.exe\", \"Compress-Archive \" + basefile])\n",
    "    shutil.rmtree(file) #deletes old temp folders\n",
    "    \n",
    "\n",
    "display(os.listdir(folder))\n",
    "#    with zipfile.ZipFile(basefile, 'w',compression=zipfile.ZIP_DEFLATED,allowZip64=True) as myzip:\n",
    "#         myzip.write(file + '.zip') \n",
    "#    shutil.make_archive(basefile,'zip',file) #makes zip folders\n",
    "#                shutil.rmtree(file) #deletes old temp folders\n",
    "#    with zipfile.ZipFile(basefile + '.zip',\"a\",zipfile.ZIP_DEFLATED,compresslevel=5) as archive:\n",
    "#         for file_path in directory.rglob(\"*\"):\n",
    "#            archive.write(\n",
    "#                file_path,\n",
    "#                arcname=file_path.relative_to(directory)\n",
    "#            )\n",
    "#"
   ]
  },
  {
   "cell_type": "code",
   "execution_count": 67,
   "id": "c96cfd35",
   "metadata": {},
   "outputs": [],
   "source": [
    "# Reseal homer file (.zip -> .homer)\n",
    "files = [f for f in os.listdir(folder) if f.endswith('.zip')]\n",
    "n_files = np.size(files)\n",
    "type(files)\n",
    "for i in range(len(files)):\n",
    "    file = files[i]\n",
    "    base = os.path.splitext(file)[0]\n",
    "    os.rename(file, base + '.homer')"
   ]
  },
  {
   "cell_type": "code",
   "execution_count": 68,
   "id": "8e2fe48c",
   "metadata": {},
   "outputs": [
    {
     "data": {
      "text/plain": [
       "CompletedProcess(args=['powershell.exe', 'Compress-Archive '], returncode=1)"
      ]
     },
     "execution_count": 68,
     "metadata": {},
     "output_type": "execute_result"
    }
   ],
   "source": [
    "cmd=\"Compress-Archive Case1BurlingtonVTDfaTEMP logs.zip\"\n",
    "subprocess.run([\"powershell.exe\", \"Compress-Archive \" + \"\"])"
   ]
  },
  {
   "cell_type": "code",
   "execution_count": null,
   "id": "d93d453a",
   "metadata": {},
   "outputs": [],
   "source": []
  }
 ],
 "metadata": {
  "kernelspec": {
   "display_name": "Python 3 (ipykernel)",
   "language": "python",
   "name": "python3"
  },
  "language_info": {
   "codemirror_mode": {
    "name": "ipython",
    "version": 3
   },
   "file_extension": ".py",
   "mimetype": "text/x-python",
   "name": "python",
   "nbconvert_exporter": "python",
   "pygments_lexer": "ipython3",
   "version": "3.9.7"
  }
 },
 "nbformat": 4,
 "nbformat_minor": 5
}
