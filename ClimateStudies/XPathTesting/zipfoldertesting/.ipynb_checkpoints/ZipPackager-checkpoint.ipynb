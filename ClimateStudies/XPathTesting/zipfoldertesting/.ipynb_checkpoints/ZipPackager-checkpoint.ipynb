{
 "cells": [
  {
   "cell_type": "markdown",
   "id": "4015e1f2",
   "metadata": {},
   "source": [
    "# Zip folder unpacking script\n",
    "This script will do the following operations in order:\n",
    "Scan a folder\n",
    "create new calculation folder\n",
    "Loop the following actions for each homer script\n",
    "\n",
    "\n",
    "    Unseal homer template file (.homer -> .zip)\n",
    "    \n",
    "    \n",
    "    Unpack zip file (.zip -> normal directory)\n",
    "    \n",
    "    \n",
    "    Open 'problem' file\n",
    "    \n",
    "    \n",
    "    ####### NOT FOR THIS SCRIPT modify 'problem' file\n",
    "    \n",
    "    \n",
    "    Repack zip file (normal directory -> .zip)\n",
    "    \n",
    "    \n",
    "    Reseal homer file (.zip -> .homer)\n",
    "    \n",
    "    \n",
    "    store updated input file in calculation folder\n",
    "    \n",
    "    \n",
    "    end "
   ]
  },
  {
   "cell_type": "code",
   "execution_count": 34,
   "id": "6f69d8d8",
   "metadata": {},
   "outputs": [
    {
     "data": {
      "text/plain": [
       "['Case1BirminghamALCfa.homer',\n",
       " 'Case1ColumbiaMOCfa.homer',\n",
       " 'Case1JacksonMSCfa.homer',\n",
       " 'Case1LittleRockARCfa.homer',\n",
       " 'Case1MemphisTNCfa.homer',\n",
       " 'Case1MobileALCfa.homer',\n",
       " 'Case1NOLACfa.homer',\n",
       " 'Case1OKCityCfa.homer',\n",
       " 'Case1ORNLCfa.homer']"
      ]
     },
     "metadata": {},
     "output_type": "display_data"
    }
   ],
   "source": [
    "# finding all noteworthy files\n",
    "import os,numpy as np, zipfile\n",
    "folder = 'C:/repo/homer/ClimateStudies/XPathTesting/zipfoldertesting'\n",
    "files = [f for f in os.listdir(folder) if f.endswith('.homer')]\n",
    "n_files = np.size(files)\n",
    "display(files)"
   ]
  },
  {
   "cell_type": "code",
   "execution_count": 35,
   "id": "e80036ec",
   "metadata": {},
   "outputs": [],
   "source": [
    "# Unsealing HOMER template files (.homer -> .zip)\n",
    "for i in range(len(files)):\n",
    "    file = files[i]\n",
    "    base = os.path.splitext(file)[0]\n",
    "    os.rename(file, base + '.zip')"
   ]
  },
  {
   "cell_type": "code",
   "execution_count": 36,
   "id": "d9c91edc",
   "metadata": {},
   "outputs": [],
   "source": [
    "# Unpack zip file (.zip -> normal directory)\n",
    "files = [f for f in os.listdir(folder) if f.endswith('.zip')]\n",
    "n_files = np.size(files)\n",
    "type(files)\n",
    "for i in range(len(files)):\n",
    "    file = files[i]\n",
    "    base = os.path.splitext(file)[0]\n",
    "    with zipfile.ZipFile(file, 'r') as zip_ref:\n",
    "        zip_ref.extractall(base + 'TEMP')\n",
    "# Opening each individiual 'problem' file after extraction\n",
    "    "
   ]
  },
  {
   "cell_type": "code",
   "execution_count": 37,
   "id": "1cfa6a98",
   "metadata": {},
   "outputs": [
    {
     "data": {
      "text/plain": [
       "['.ipynb_checkpoints',\n",
       " 'birmingham.homer',\n",
       " 'Case1BirminghamALCfa.zip',\n",
       " 'Case1ColumbiaMOCfa.zip',\n",
       " 'Case1JacksonMSCfa.zip',\n",
       " 'Case1LittleRockARCfa.zip',\n",
       " 'Case1MemphisTNCfa.zip',\n",
       " 'Case1MobileALCfa.zip',\n",
       " 'Case1NOLACfa.zip',\n",
       " 'Case1OKCityCfa.zip',\n",
       " 'Case1ORNLCfa.zip',\n",
       " 'ZipPackager.ipynb']"
      ]
     },
     "metadata": {},
     "output_type": "display_data"
    }
   ],
   "source": [
    "#Repack zip file (normal directory -> .zip)\n",
    "## THIS STEP CURRENTLY BREAKS THE HOMER FILE\n",
    "## Try using zipcode compression \n",
    "import shutil\n",
    "files = [f for f in os.listdir(folder) if f.endswith('TEMP')]\n",
    "for i in range(len(files)):\n",
    "    file = files[i]\n",
    "    basefile = file.replace('TEMP','')\n",
    "    shutil.make_archive(basefile,'zip',file)\n",
    "    shutil.rmtree(file)\n",
    "    \n",
    "display(os.listdir(folder))"
   ]
  },
  {
   "cell_type": "code",
   "execution_count": 38,
   "id": "c96cfd35",
   "metadata": {},
   "outputs": [],
   "source": [
    "# Reseal homer file (.zip -> .homer)\n",
    "files = [f for f in os.listdir(folder) if f.endswith('.zip')]\n",
    "n_files = np.size(files)\n",
    "type(files)\n",
    "for i in range(len(files)):\n",
    "    file = files[i]\n",
    "    base = os.path.splitext(file)[0]\n",
    "    os.rename(file, base + '.homer')"
   ]
  },
  {
   "cell_type": "code",
   "execution_count": null,
   "id": "d68fd433",
   "metadata": {},
   "outputs": [],
   "source": []
  }
 ],
 "metadata": {
  "kernelspec": {
   "display_name": "Python 3 (ipykernel)",
   "language": "python",
   "name": "python3"
  },
  "language_info": {
   "codemirror_mode": {
    "name": "ipython",
    "version": 3
   },
   "file_extension": ".py",
   "mimetype": "text/x-python",
   "name": "python",
   "nbconvert_exporter": "python",
   "pygments_lexer": "ipython3",
   "version": "3.9.7"
  }
 },
 "nbformat": 4,
 "nbformat_minor": 5
}
