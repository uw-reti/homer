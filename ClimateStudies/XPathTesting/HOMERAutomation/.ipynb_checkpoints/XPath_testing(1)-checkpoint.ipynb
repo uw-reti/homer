{
 "cells": [
  {
   "cell_type": "code",
   "execution_count": 1,
   "id": "e507b7a1",
   "metadata": {},
   "outputs": [],
   "source": [
    "from lxml import etree, objectify"
   ]
  },
  {
   "cell_type": "code",
   "execution_count": 6,
   "id": "35a9f2c1",
   "metadata": {},
   "outputs": [
    {
     "ename": "XMLSyntaxError",
     "evalue": "Start tag expected, '<' not found, line 1, column 1 (<string>, line 1)",
     "output_type": "error",
     "traceback": [
      "Traceback \u001b[1;36m(most recent call last)\u001b[0m:\n",
      "  File \u001b[0;32m\"C:\\ProgramData\\Anaconda3\\lib\\site-packages\\IPython\\core\\interactiveshell.py\"\u001b[0m, line \u001b[0;32m3444\u001b[0m, in \u001b[0;35mrun_code\u001b[0m\n    exec(code_obj, self.user_global_ns, self.user_ns)\n",
      "  File \u001b[0;32m\"C:\\Users\\rfdro\\AppData\\Local\\Temp/ipykernel_7620/654000296.py\"\u001b[0m, line \u001b[0;32m4\u001b[0m, in \u001b[0;35m<module>\u001b[0m\n    problem = etree.fromstring(xml)\n",
      "  File \u001b[0;32m\"src/lxml/etree.pyx\"\u001b[0m, line \u001b[0;32m3237\u001b[0m, in \u001b[0;35mlxml.etree.fromstring\u001b[0m\n",
      "  File \u001b[0;32m\"src/lxml/parser.pxi\"\u001b[0m, line \u001b[0;32m1896\u001b[0m, in \u001b[0;35mlxml.etree._parseMemoryDocument\u001b[0m\n",
      "  File \u001b[0;32m\"src/lxml/parser.pxi\"\u001b[0m, line \u001b[0;32m1777\u001b[0m, in \u001b[0;35mlxml.etree._parseDoc\u001b[0m\n",
      "  File \u001b[0;32m\"src/lxml/parser.pxi\"\u001b[0m, line \u001b[0;32m1082\u001b[0m, in \u001b[0;35mlxml.etree._BaseParser._parseUnicodeDoc\u001b[0m\n",
      "  File \u001b[0;32m\"src/lxml/parser.pxi\"\u001b[0m, line \u001b[0;32m615\u001b[0m, in \u001b[0;35mlxml.etree._ParserContext._handleParseResultDoc\u001b[0m\n",
      "  File \u001b[0;32m\"src/lxml/parser.pxi\"\u001b[0m, line \u001b[0;32m725\u001b[0m, in \u001b[0;35mlxml.etree._handleParseResult\u001b[0m\n",
      "\u001b[1;36m  File \u001b[1;32m\"src/lxml/parser.pxi\"\u001b[1;36m, line \u001b[1;32m654\u001b[1;36m, in \u001b[1;35mlxml.etree._raiseParseError\u001b[1;36m\u001b[0m\n",
      "\u001b[1;36m  File \u001b[1;32m\"<string>\"\u001b[1;36m, line \u001b[1;32m1\u001b[0m\n\u001b[1;31mXMLSyntaxError\u001b[0m\u001b[1;31m:\u001b[0m Start tag expected, '<' not found, line 1, column 1\n"
     ]
    }
   ],
   "source": [
    "with open('problem') as f:\n",
    "    xml = f.read()\n",
    "    \n",
    "problem = etree.fromstring(xml)"
   ]
  },
  {
   "cell_type": "code",
   "execution_count": 42,
   "id": "c2edc933",
   "metadata": {},
   "outputs": [],
   "source": [
    "problem.xpath('/HomerProblem/Controllers/Controller/Abbreviation')[0].text = 'DC'"
   ]
  },
  {
   "cell_type": "code",
   "execution_count": 43,
   "id": "e3a6e6ac",
   "metadata": {},
   "outputs": [
    {
     "data": {
      "text/plain": [
       "'DC'"
      ]
     },
     "execution_count": 43,
     "metadata": {},
     "output_type": "execute_result"
    }
   ],
   "source": [
    "problem.xpath('/HomerProblem/Controllers/Controller/Abbreviation')[0].text"
   ]
  },
  {
   "cell_type": "code",
   "execution_count": 46,
   "id": "e065f71a",
   "metadata": {},
   "outputs": [
    {
     "name": "stdout",
     "output_type": "stream",
     "text": [
      "/HomerProblem/Controllers/Controller/Abbreviation  =>  DC\n",
      "/HomerProblem/Controllers/Controller/Abbreviation  =>  AC\n",
      "/HomerProblem/FuelResources/Fuel/Name  =>  Diesel\n",
      "/HomerProblem/FuelResources/Fuel/Name  =>  Ethanol\n"
     ]
    }
   ],
   "source": [
    "new_data = {'/HomerProblem/Controllers/Controller/Abbreviation': 'AC',\n",
    "            '/HomerProblem/FuelResources/Fuel/Name': 'Ethanol'}\n",
    "for path, value in new_data.items():\n",
    "    print(path, ' => ', problem.xpath(path)[0].text)\n",
    "    problem.xpath(path)[0].text = value\n",
    "    print(path, ' => ', problem.xpath(path)[0].text)\n"
   ]
  },
  {
   "cell_type": "code",
   "execution_count": null,
   "id": "170f2dfc",
   "metadata": {},
   "outputs": [],
   "source": []
  }
 ],
 "metadata": {
  "kernelspec": {
   "display_name": "Python 3 (ipykernel)",
   "language": "python",
   "name": "python3"
  },
  "language_info": {
   "codemirror_mode": {
    "name": "ipython",
    "version": 3
   },
   "file_extension": ".py",
   "mimetype": "text/x-python",
   "name": "python",
   "nbconvert_exporter": "python",
   "pygments_lexer": "ipython3",
   "version": "3.9.7"
  }
 },
 "nbformat": 4,
 "nbformat_minor": 5
}
