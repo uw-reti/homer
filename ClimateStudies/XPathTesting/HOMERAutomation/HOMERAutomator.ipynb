{
 "cells": [
  {
   "cell_type": "markdown",
   "id": "4015e1f2",
   "metadata": {},
   "source": [
    "# Zip folder unpacking script\n",
    "This script will do the following operations in order:\n",
    "Scan a folder\n",
    "create new calculation folder\n",
    "Loop the following actions for each homer script\n",
    "\n",
    "\n",
    "    Unseal homer template file (.homer -> .zip)\n",
    "    \n",
    "    \n",
    "    Unpack zip file (.zip -> normal directory)\n",
    "    \n",
    "    \n",
    "    Open 'problem' file\n",
    "    \n",
    "    \n",
    "    ####### NOT FOR THIS SCRIPT modify 'problem' file\n",
    "    \n",
    "    \n",
    "    Repack zip file (normal directory -> .zip)\n",
    "    \n",
    "    \n",
    "    Reseal homer file (.zip -> .homer) \n",
    "        ->[FOR THIS STEP TO FUNCTION PROPERLY, THE JUPYTER NOTEBOOK MUST BE EXECUTED ONE DIRECTORY HIGHER]\n",
    "    \n",
    "    \n",
    "    store updated input file in calculation folder\n",
    "    \n",
    "    \n",
    "    end "
   ]
  },
  {
   "cell_type": "code",
   "execution_count": 14,
   "id": "6f69d8d8",
   "metadata": {},
   "outputs": [],
   "source": [
    "# Script initialization, make sure to set working directory\n",
    "import os\n",
    "import numpy as np \n",
    "import zipfile\n",
    "import shutil\n",
    "import zlib\n",
    "import pathlib \n",
    "import subprocess\n",
    "from lxml import etree, objectify\n",
    "folder = 'c:/repo/homer/ClimateStudies/XPathTesting/HOMERAutomation'"
   ]
  },
  {
   "cell_type": "code",
   "execution_count": 15,
   "id": "e80036ec",
   "metadata": {},
   "outputs": [
    {
     "data": {
      "text/plain": [
       "['Case1BurlingtonVTDfa.homer',\n",
       " 'Case1ChicagoDfa.homer',\n",
       " 'Case1ColumbusOHDfa.homer',\n",
       " 'Case1DesMoinesIADfa.homer',\n",
       " 'Case1DetroitMIDfa.homer',\n",
       " 'Case1LincolnNEDfa.homer',\n",
       " 'Case1SouthBendINDfa.homer']"
      ]
     },
     "metadata": {},
     "output_type": "display_data"
    }
   ],
   "source": [
    "# Unsealing HOMER template files (.homer -> .zip)\n",
    "files = [f for f in os.listdir(folder) if f.endswith('.homer')]\n",
    "n_files = np.size(files)\n",
    "display(files)\n",
    "for i in range(len(files)):\n",
    "    file = files[i]\n",
    "    base = os.path.splitext(file)[0]\n",
    "    os.rename(file, base + '.zip')"
   ]
  },
  {
   "cell_type": "code",
   "execution_count": 16,
   "id": "d9c91edc",
   "metadata": {},
   "outputs": [],
   "source": [
    "# Unpack zip file (.zip -> normal directory)\n",
    "files = [f for f in os.listdir(folder) if f.endswith('.zip')]\n",
    "n_files = np.size(files)\n",
    "for i in range(len(files)):\n",
    "    file = files[i]\n",
    "    base = os.path.splitext(file)[0]\n",
    "    with zipfile.ZipFile(file, 'r') as zip_ref:\n",
    "        zip_ref.extractall(base + 'TEMP')\n",
    "    os.remove(file)\n",
    "# Opening each individiual 'problem' file after extraction\n",
    "    "
   ]
  },
  {
   "cell_type": "code",
   "execution_count": 17,
   "id": "a928e054",
   "metadata": {
    "scrolled": false
   },
   "outputs": [
    {
     "data": {
      "text/plain": [
       "['Case1BurlingtonVTDfaTEMP',\n",
       " 'Case1ChicagoDfaTEMP',\n",
       " 'Case1ColumbusOHDfaTEMP',\n",
       " 'Case1DesMoinesIADfaTEMP',\n",
       " 'Case1DetroitMIDfaTEMP',\n",
       " 'Case1LincolnNEDfaTEMP',\n",
       " 'Case1SouthBendINDfaTEMP']"
      ]
     },
     "metadata": {},
     "output_type": "display_data"
    }
   ],
   "source": [
    "# (Within normal directory) Edit the .xml files for each HOMER problem.\n",
    "files = [f for f in os.listdir(folder) if f.endswith('TEMP')]\n",
    "display(files)\n",
    "# paths to change as key, new value as value\n",
    "new_data = {'/HomerProblem/FuelResources/Fuel/Name': 'CCM FUEL',\n",
    "            '/HomerProblem/FuelResources/Fuel/FuelCostSensitivity/decimal': '0.00',\n",
    "            '/HomerProblem/Generators/Generator/CostMatrix/Cost/Initial': '8000000',\n",
    "            '/HomerProblem/Generators/Generator/CostMatrix/Cost/CapitalCostDetail/CostCalculatorItem/Quantity': '1000' ,\n",
    "            '/HomerProblem/Generators/Generator/CostMatrix/Cost/CapitalCostDetail/CostCalculatorItem/UnitCost': '8000' ,\n",
    "            '/HomerProblem/Generators/Generator/CostMatrix/Cost/Replacement': '3550000',\n",
    "            '/HomerProblem/Generators/Generator/CostMatrix/Cost/ReplacementCostDetail/CostCalculatorItem/Quantity': '1000' ,\n",
    "            '/HomerProblem/Generators/Generator/CostMatrix/Cost/ReplacementCostDetail/CostCalculatorItem/UnitCost': '3550000' ,\n",
    "            '/HomerProblem/Generators/Generator/CostMatrix/Cost/Operating': '14.60',\n",
    "            '/HomerProblem/SimulationParameters/Economics/ProjectLifetimeSensitivity/decimal': '60'}\n",
    "   \n",
    "for i in range(len(files)):\n",
    "    file = files[i]\n",
    "    problems = etree.parse(file + '/problem')\n",
    "    os.remove(file + '/calculated-problem') #deletes old homer savestate\n",
    "    for path, value in new_data.items():\n",
    "        if isinstance(value,str) == True:#not necessary currently, but can be used to differentiate values later\n",
    "            #print(path, ' => ', problems.xpath(path)[0].text)\n",
    "            problems.xpath(path)[0].text = value\n",
    "            #print(path, ' => ', problems.xpath(path)[0].text)\n",
    "        newfile = etree.tostring(problems,encoding='US-ASCII',method='xml', xml_declaration='<?xml version=\"1.0\" encoding=\"utf-8\"?>')\n",
    "        newfile = str(newfile,'US-ASCII')#otherwise use utf-8\n",
    "    with open(file + '/problem','w') as f:\n",
    "    #   # newfile = etree.tostring(new)\n",
    "         f.write(newfile)\n",
    "        \n",
    "        \n",
    "        \n",
    "    #display(problem)\n",
    "       # problem.xpath(j)[0].text = value[j]"
   ]
  },
  {
   "cell_type": "code",
   "execution_count": 18,
   "id": "1cfa6a98",
   "metadata": {},
   "outputs": [
    {
     "data": {
      "text/plain": [
       "['Case1BurlingtonVTDfaTEMP',\n",
       " 'Case1ChicagoDfaTEMP',\n",
       " 'Case1ColumbusOHDfaTEMP',\n",
       " 'Case1DesMoinesIADfaTEMP',\n",
       " 'Case1DetroitMIDfaTEMP',\n",
       " 'Case1LincolnNEDfaTEMP',\n",
       " 'Case1SouthBendINDfaTEMP']"
      ]
     },
     "metadata": {},
     "output_type": "display_data"
    }
   ],
   "source": [
    "#Repack zip file (normal directory -> .zip)\n",
    "## THIS STEP CURRENTLY BREAKS THE HOMER FILE\n",
    "## Try using zipcode compression \n",
    "files = [f for f in os.listdir(folder) if f.endswith('TEMP')]\n",
    "display(files)\n",
    "for i in range(len(files)):\n",
    "    file = files[i]\n",
    "    directory = pathlib.Path(file)\n",
    "    basefile = file.replace('TEMP','')\n",
    "    subprocess.run([\"powershell.exe\", \"Compress-Archive -Path \" + file + \"\\* -DestinationPath \" + basefile + \" -Force\"])\n",
    "    shutil.rmtree(file) #deletes old temp folders\n",
    "    "
   ]
  },
  {
   "cell_type": "code",
   "execution_count": 19,
   "id": "c96cfd35",
   "metadata": {},
   "outputs": [],
   "source": [
    "# Reseal homer file (.zip -> .homer)\n",
    "files = [f for f in os.listdir(folder) if f.endswith('.zip')]\n",
    "n_files = np.size(files)\n",
    "type(files)\n",
    "for i in range(len(files)):\n",
    "    file = files[i]\n",
    "    base = os.path.splitext(file)[0]\n",
    "    os.rename(file, base + '.homer')"
   ]
  },
  {
   "cell_type": "code",
   "execution_count": null,
   "id": "43948598",
   "metadata": {},
   "outputs": [],
   "source": []
  }
 ],
 "metadata": {
  "kernelspec": {
   "display_name": "Python 3 (ipykernel)",
   "language": "python",
   "name": "python3"
  },
  "language_info": {
   "codemirror_mode": {
    "name": "ipython",
    "version": 3
   },
   "file_extension": ".py",
   "mimetype": "text/x-python",
   "name": "python",
   "nbconvert_exporter": "python",
   "pygments_lexer": "ipython3",
   "version": "3.9.7"
  }
 },
 "nbformat": 4,
 "nbformat_minor": 5
}
