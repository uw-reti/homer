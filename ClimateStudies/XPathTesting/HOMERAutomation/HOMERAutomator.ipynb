{
 "cells": [
  {
   "cell_type": "markdown",
   "id": "4015e1f2",
   "metadata": {},
   "source": [
    "# Zip folder unpacking script\n",
    "This script will do the following operations in order:\n",
    "Scan a folder\n",
    "create new calculation folder\n",
    "Loop the following actions for each homer script\n",
    "\n",
    "\n",
    "    Unseal homer template file (.homer -> .zip)\n",
    "    \n",
    "    \n",
    "    Unpack zip file (.zip -> normal directory)\n",
    "    \n",
    "    \n",
    "    Open 'problem' file\n",
    "    \n",
    "    \n",
    "    ####### NOT FOR THIS SCRIPT modify 'problem' file\n",
    "    \n",
    "    \n",
    "    Repack zip file (normal directory -> .zip)\n",
    "    \n",
    "    \n",
    "    Reseal homer file (.zip -> .homer)\n",
    "    \n",
    "    \n",
    "    store updated input file in calculation folder\n",
    "    \n",
    "    \n",
    "    end "
   ]
  },
  {
   "cell_type": "code",
   "execution_count": 16,
   "id": "6f69d8d8",
   "metadata": {},
   "outputs": [
    {
     "data": {
      "text/plain": [
       "['Case1BurlingtonVTDfa.homer',\n",
       " 'Case1ChicagoDfa.homer',\n",
       " 'Case1ColumbusOHDfa.homer',\n",
       " 'Case1DesMoinesIADfa.homer',\n",
       " 'Case1DetroitMIDfa.homer',\n",
       " 'Case1LincolnNEDfa.homer',\n",
       " 'Case1SouthBendINDfa.homer']"
      ]
     },
     "metadata": {},
     "output_type": "display_data"
    }
   ],
   "source": [
    "# finding all noteworthy files\n",
    "import os\n",
    "import numpy as np \n",
    "import zipfile\n",
    "import shutil\n",
    "import zlib\n",
    "import pathlib \n",
    "import subprocess\n",
    "from lxml import etree, objectify\n",
    "folder = 'c:/repo/homer/ClimateStudies/XPathTesting/HOMERAutomation'\n",
    "files = [f for f in os.listdir(folder) if f.endswith('.homer')]\n",
    "n_files = np.size(files)\n",
    "display(files)"
   ]
  },
  {
   "cell_type": "code",
   "execution_count": 17,
   "id": "e80036ec",
   "metadata": {},
   "outputs": [],
   "source": [
    "# Unsealing HOMER template files (.homer -> .zip)\n",
    "for i in range(len(files)):\n",
    "    file = files[i]\n",
    "    base = os.path.splitext(file)[0]\n",
    "    os.rename(file, base + '.zip')"
   ]
  },
  {
   "cell_type": "code",
   "execution_count": 18,
   "id": "d9c91edc",
   "metadata": {},
   "outputs": [],
   "source": [
    "# Unpack zip file (.zip -> normal directory)\n",
    "files = [f for f in os.listdir(folder) if f.endswith('.zip')]\n",
    "n_files = np.size(files)\n",
    "for i in range(len(files)):\n",
    "    file = files[i]\n",
    "    base = os.path.splitext(file)[0]\n",
    "    with zipfile.ZipFile(file, 'r') as zip_ref:\n",
    "        zip_ref.extractall(base + 'TEMP')\n",
    "    os.remove(file)\n",
    "# Opening each individiual 'problem' file after extraction\n",
    "    "
   ]
  },
  {
   "cell_type": "code",
   "execution_count": 22,
   "id": "a928e054",
   "metadata": {},
   "outputs": [
    {
     "data": {
      "text/plain": [
       "['Case1BurlingtonVTDfaTEMP',\n",
       " 'Case1ChicagoDfaTEMP',\n",
       " 'Case1ColumbusOHDfaTEMP',\n",
       " 'Case1DesMoinesIADfaTEMP',\n",
       " 'Case1DetroitMIDfaTEMP',\n",
       " 'Case1LincolnNEDfaTEMP',\n",
       " 'Case1SouthBendINDfaTEMP']"
      ]
     },
     "metadata": {},
     "output_type": "display_data"
    },
    {
     "ename": "XMLSyntaxError",
     "evalue": "Document is empty, line 1, column 1 (Case1BurlingtonVTDfaTEMP/problem, line 1)",
     "output_type": "error",
     "traceback": [
      "Traceback \u001b[1;36m(most recent call last)\u001b[0m:\n",
      "  File \u001b[0;32m\"C:\\ProgramData\\Anaconda3\\lib\\site-packages\\IPython\\core\\interactiveshell.py\"\u001b[0m, line \u001b[0;32m3444\u001b[0m, in \u001b[0;35mrun_code\u001b[0m\n    exec(code_obj, self.user_global_ns, self.user_ns)\n",
      "  File \u001b[0;32m\"C:\\Users\\Ryan\\AppData\\Local\\Temp/ipykernel_5456/1587147612.py\"\u001b[0m, line \u001b[0;32m17\u001b[0m, in \u001b[0;35m<module>\u001b[0m\n    problems = etree.parse(file + '/problem')\n",
      "  File \u001b[0;32m\"src/lxml/etree.pyx\"\u001b[0m, line \u001b[0;32m3521\u001b[0m, in \u001b[0;35mlxml.etree.parse\u001b[0m\n",
      "  File \u001b[0;32m\"src/lxml/parser.pxi\"\u001b[0m, line \u001b[0;32m1859\u001b[0m, in \u001b[0;35mlxml.etree._parseDocument\u001b[0m\n",
      "  File \u001b[0;32m\"src/lxml/parser.pxi\"\u001b[0m, line \u001b[0;32m1885\u001b[0m, in \u001b[0;35mlxml.etree._parseDocumentFromURL\u001b[0m\n",
      "  File \u001b[0;32m\"src/lxml/parser.pxi\"\u001b[0m, line \u001b[0;32m1789\u001b[0m, in \u001b[0;35mlxml.etree._parseDocFromFile\u001b[0m\n",
      "  File \u001b[0;32m\"src/lxml/parser.pxi\"\u001b[0m, line \u001b[0;32m1177\u001b[0m, in \u001b[0;35mlxml.etree._BaseParser._parseDocFromFile\u001b[0m\n",
      "  File \u001b[0;32m\"src/lxml/parser.pxi\"\u001b[0m, line \u001b[0;32m615\u001b[0m, in \u001b[0;35mlxml.etree._ParserContext._handleParseResultDoc\u001b[0m\n",
      "  File \u001b[0;32m\"src/lxml/parser.pxi\"\u001b[0m, line \u001b[0;32m725\u001b[0m, in \u001b[0;35mlxml.etree._handleParseResult\u001b[0m\n",
      "\u001b[1;36m  File \u001b[1;32m\"src/lxml/parser.pxi\"\u001b[1;36m, line \u001b[1;32m654\u001b[1;36m, in \u001b[1;35mlxml.etree._raiseParseError\u001b[1;36m\u001b[0m\n",
      "\u001b[1;36m  File \u001b[1;32m\"Case1BurlingtonVTDfaTEMP/problem\"\u001b[1;36m, line \u001b[1;32m1\u001b[0m\n\u001b[1;31mXMLSyntaxError\u001b[0m\u001b[1;31m:\u001b[0m Document is empty, line 1, column 1\n"
     ]
    }
   ],
   "source": [
    "# (Within normal directory) Edit the .xml files for each HOMER problem.\n",
    "files = [f for f in os.listdir(folder) if f.endswith('TEMP')]\n",
    "display(files)\n",
    "# paths to change as key, new value as value\n",
    "new_data = {'/HomerProblem/FuelResources/Fuel/Name': 'CCM FUEL',\n",
    "            '/HomerProblem/Generators/Generator/CostMatrix/Cost/Initial': '8000000',\n",
    "            '/HomerProblem/Generators/Generator/CostMatrix/Cost/CapitalCostDetail/CostCalculatorItem/Quantity': '1000' ,\n",
    "            '/HomerProblem/Generators/Generator/CostMatrix/Cost/CapitalCostDetail/CostCalculatorItem/UnitCost': '8000' ,\n",
    "            '/HomerProblem/Generators/Generator/CostMatrix/Cost/Replacement': '3550000',\n",
    "            '/HomerProblem/Generators/Generator/CostMatrix/Cost/ReplacementCostDetail/CostCalculatorItem/Quantity': '1000' ,\n",
    "            '/HomerProblem/Generators/Generator/CostMatrix/Cost/ReplacementCostDetail/CostCalculatorItem/UnitCost': '3550000' ,\n",
    "            '/HomerProblem/Generators/Generator/CostMatrix/Cost/Operating': '14.60',\n",
    "            '/HomerProblem/SimulationParameters/Economics/ProjectLifetimeSensitivity': '60'}\n",
    "   \n",
    "for i in range(len(files)):\n",
    "    file = files[i]\n",
    "    problems = etree.parse(file + '/problem')\n",
    "    for path, value in new_data.items():\n",
    "        if isinstance(value,str) == True:\n",
    "            print(path, ' => ', problems.xpath(path)[0].text)\n",
    "            problems.xpath(path)[0].text = value\n",
    "            print(path, ' => ', problems.xpath(path)[0].text)\n",
    "        newfile = etree.tostring(problems,encoding='utf-8')\n",
    "        #display(newfile)\n",
    "    with open(file + '/problem','w') as f:\n",
    "        newfile = etree.tostring(problems)\n",
    "        f.write(newfile)\n",
    "        \n",
    "        \n",
    "        \n",
    "    #display(problem)\n",
    "       # problem.xpath(j)[0].text = value[j]"
   ]
  },
  {
   "cell_type": "code",
   "execution_count": 14,
   "id": "1cfa6a98",
   "metadata": {},
   "outputs": [],
   "source": [
    "#Repack zip file (normal directory -> .zip)\n",
    "## THIS STEP CURRENTLY BREAKS THE HOMER FILE\n",
    "## Try using zipcode compression \n",
    "files = [f for f in os.listdir(folder) if f.endswith('TEMP')]\n",
    "#directory = pathlib.Path('zipfoldertesting/') ## NEEDS TO BE In FOR LOOP, DIRECTORY -> zip file\n",
    "for i in range(len(files)):\n",
    "    file = files[i]\n",
    "    directory = pathlib.Path(file)\n",
    "    basefile = file.replace('TEMP','')\n",
    "    subprocess.run([\"powershell.exe\", \"Compress-Archive \" + basefile])\n",
    "    #shutil.rmtree(file) #deletes old temp folders\n",
    "    "
   ]
  },
  {
   "cell_type": "code",
   "execution_count": 15,
   "id": "c96cfd35",
   "metadata": {},
   "outputs": [],
   "source": [
    "# Reseal homer file (.zip -> .homer)\n",
    "files = [f for f in os.listdir(folder) if f.endswith('.zip')]\n",
    "n_files = np.size(files)\n",
    "type(files)\n",
    "for i in range(len(files)):\n",
    "    file = files[i]\n",
    "    base = os.path.splitext(file)[0]\n",
    "    os.rename(file, base + '.homer')"
   ]
  },
  {
   "cell_type": "code",
   "execution_count": null,
   "id": "dfc5bdf3",
   "metadata": {},
   "outputs": [],
   "source": []
  }
 ],
 "metadata": {
  "kernelspec": {
   "display_name": "Python 3 (ipykernel)",
   "language": "python",
   "name": "python3"
  },
  "language_info": {
   "codemirror_mode": {
    "name": "ipython",
    "version": 3
   },
   "file_extension": ".py",
   "mimetype": "text/x-python",
   "name": "python",
   "nbconvert_exporter": "python",
   "pygments_lexer": "ipython3",
   "version": "3.9.7"
  }
 },
 "nbformat": 4,
 "nbformat_minor": 5
}
