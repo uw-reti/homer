{
 "cells": [
  {
   "cell_type": "markdown",
   "id": "4015e1f2",
   "metadata": {},
   "source": [
    "# Zip folder unpacking script\n",
    "This script will do the following operations in order:\n",
    "Scan a folder\n",
    "create new calculation folder\n",
    "Loop the following actions for each homer script\n",
    "\n",
    "\n",
    "    Unseal homer template file (.homer -> .zip)\n",
    "    \n",
    "    \n",
    "    Unpack zip file (.zip -> normal directory)\n",
    "    \n",
    "    \n",
    "    Open 'problem' file\n",
    "    \n",
    "    \n",
    "    ####### NOT FOR THIS SCRIPT modify 'problem' file\n",
    "    \n",
    "    \n",
    "    Repack zip file (normal directory -> .zip)\n",
    "    \n",
    "    \n",
    "    Reseal homer file (.zip -> .homer)\n",
    "    \n",
    "    \n",
    "    store updated input file in calculation folder\n",
    "    \n",
    "    \n",
    "    end "
   ]
  },
  {
   "cell_type": "code",
   "execution_count": 18,
   "id": "6f69d8d8",
   "metadata": {},
   "outputs": [
    {
     "data": {
      "text/plain": [
       "[]"
      ]
     },
     "metadata": {},
     "output_type": "display_data"
    }
   ],
   "source": [
    "# finding all noteworthy files\n",
    "import os\n",
    "import numpy as np \n",
    "import zipfile\n",
    "import shutil\n",
    "import zlib\n",
    "import pathlib \n",
    "import subprocess\n",
    "from lxml import etree, objectify\n",
    "folder = 'D:/repo/homer/ClimateStudies/XPathTesting/HOMERAutomation'\n",
    "files = [f for f in os.listdir(folder) if f.endswith('.homer')]\n",
    "n_files = np.size(files)\n",
    "display(files)"
   ]
  },
  {
   "cell_type": "code",
   "execution_count": 19,
   "id": "e80036ec",
   "metadata": {},
   "outputs": [],
   "source": [
    "# Unsealing HOMER template files (.homer -> .zip)\n",
    "for i in range(len(files)):\n",
    "    file = files[i]\n",
    "    base = os.path.splitext(file)[0]\n",
    "    os.rename(file, base + '.zip')"
   ]
  },
  {
   "cell_type": "code",
   "execution_count": 20,
   "id": "d9c91edc",
   "metadata": {},
   "outputs": [],
   "source": [
    "# Unpack zip file (.zip -> normal directory)\n",
    "files = [f for f in os.listdir(folder) if f.endswith('.zip')]\n",
    "n_files = np.size(files)\n",
    "for i in range(len(files)):\n",
    "    file = files[i]\n",
    "    base = os.path.splitext(file)[0]\n",
    "    with zipfile.ZipFile(file, 'r') as zip_ref:\n",
    "        zip_ref.extractall(base + 'TEMP')\n",
    "    os.remove(file)\n",
    "# Opening each individiual 'problem' file after extraction\n",
    "    "
   ]
  },
  {
   "cell_type": "code",
   "execution_count": 39,
   "id": "a928e054",
   "metadata": {},
   "outputs": [
    {
     "ename": "SyntaxError",
     "evalue": "invalid syntax (Temp/ipykernel_16744/1659438766.py, line 7)",
     "output_type": "error",
     "traceback": [
      "\u001b[1;36m  File \u001b[1;32m\"C:\\Users\\rfdro\\AppData\\Local\\Temp/ipykernel_16744/1659438766.py\"\u001b[1;36m, line \u001b[1;32m7\u001b[0m\n\u001b[1;33m    '/HomerProblem/FuelResources/Fuel/Name',\u001b[0m\n\u001b[1;37m                                           ^\u001b[0m\n\u001b[1;31mSyntaxError\u001b[0m\u001b[1;31m:\u001b[0m invalid syntax\n"
     ]
    }
   ],
   "source": [
    "# (Within normal directory) Edit the .xml files for each HOMER problem.\n",
    "files = [f for f in os.listdir(folder) if f.endswith('TEMP')]\n",
    "display(files)\n",
    "# paths to change as key, new value as value\n",
    "new_data = {'/HomerProblem/Controllers/Controller/Abbreviation': 'AC', #don't include\n",
    "            '/HomerProblem/FuelResources/Fuel/Name': 'CCM FUEL',\n",
    "            '/HomerProblem/FuelResources/Fuel/Name': '',\n",
    "           ,\n",
    "           ,}\n",
    "for i in range(len(files)):\n",
    "    file = files[i]\n",
    "    #display(file)\n",
    "    problem = etree.parse(file + '/problem')\n",
    "    for j in range(len(new_data))\n",
    "    #display(problem)\n",
    "        print(problem.xpath(j)[0].text)\n",
    "    \n",
    "#    with open(file + '/problem') as f:\n",
    "#        xml = f.read()\n",
    "#       # display(xml)\n",
    "#       # problem = etree.parse(xml)\n",
    "#        problem = etree.fromstring(xml)"
   ]
  },
  {
   "cell_type": "code",
   "execution_count": 6,
   "id": "1cfa6a98",
   "metadata": {},
   "outputs": [
    {
     "data": {
      "text/plain": [
       "['.ipynb_checkpoints',\n",
       " 'Case1BurlingtonVTDfa.zip',\n",
       " 'Case1ChicagoDfa.zip',\n",
       " 'Case1ColumbusOHDfa.zip',\n",
       " 'Case1DesMoinesIADfa.zip',\n",
       " 'Case1DetroitMIDfa.zip',\n",
       " 'Case1LincolnNEDfa.zip',\n",
       " 'Case1SouthBendINDfa.zip',\n",
       " 'ZipPackager.ipynb']"
      ]
     },
     "metadata": {},
     "output_type": "display_data"
    }
   ],
   "source": [
    "#Repack zip file (normal directory -> .zip)\n",
    "## THIS STEP CURRENTLY BREAKS THE HOMER FILE\n",
    "## Try using zipcode compression \n",
    "files = [f for f in os.listdir(folder) if f.endswith('TEMP')]\n",
    "#directory = pathlib.Path('zipfoldertesting/') ## NEEDS TO BE In FOR LOOP, DIRECTORY -> zip file\n",
    "for i in range(len(files)):\n",
    "    file = files[i]\n",
    "    directory = pathlib.Path(file)\n",
    "    basefile = file.replace('TEMP','')\n",
    "    subprocess.run([\"powershell.exe\", \"Compress-Archive \" + basefile])\n",
    "    shutil.rmtree(file) #deletes old temp folders\n",
    "    "
   ]
  },
  {
   "cell_type": "code",
   "execution_count": 4,
   "id": "c96cfd35",
   "metadata": {},
   "outputs": [],
   "source": [
    "# Reseal homer file (.zip -> .homer)\n",
    "files = [f for f in os.listdir(folder) if f.endswith('.zip')]\n",
    "n_files = np.size(files)\n",
    "type(files)\n",
    "for i in range(len(files)):\n",
    "    file = files[i]\n",
    "    base = os.path.splitext(file)[0]\n",
    "    os.rename(file, base + '.homer')"
   ]
  }
 ],
 "metadata": {
  "kernelspec": {
   "display_name": "Python 3 (ipykernel)",
   "language": "python",
   "name": "python3"
  },
  "language_info": {
   "codemirror_mode": {
    "name": "ipython",
    "version": 3
   },
   "file_extension": ".py",
   "mimetype": "text/x-python",
   "name": "python",
   "nbconvert_exporter": "python",
   "pygments_lexer": "ipython3",
   "version": "3.9.7"
  }
 },
 "nbformat": 4,
 "nbformat_minor": 5
}
