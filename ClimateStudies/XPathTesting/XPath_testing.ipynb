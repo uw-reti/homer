{
 "cells": [
  {
   "cell_type": "code",
   "execution_count": 1,
   "id": "e507b7a1",
   "metadata": {},
   "outputs": [],
   "source": [
    "from lxml import etree, objectify\n",
    "import zipfile"
   ]
  },
  {
   "cell_type": "code",
   "execution_count": 2,
   "id": "35a9f2c1",
   "metadata": {},
   "outputs": [
    {
     "ename": "FileNotFoundError",
     "evalue": "[Errno 2] No such file or directory: 'problem'",
     "output_type": "error",
     "traceback": [
      "\u001b[1;31m---------------------------------------------------------------------------\u001b[0m",
      "\u001b[1;31mFileNotFoundError\u001b[0m                         Traceback (most recent call last)",
      "\u001b[1;32m~\\AppData\\Local\\Temp/ipykernel_7284/1096396107.py\u001b[0m in \u001b[0;36m<module>\u001b[1;34m\u001b[0m\n\u001b[1;32m----> 1\u001b[1;33m \u001b[1;32mwith\u001b[0m \u001b[0mopen\u001b[0m\u001b[1;33m(\u001b[0m\u001b[1;34m'problem'\u001b[0m\u001b[1;33m)\u001b[0m \u001b[1;32mas\u001b[0m \u001b[0mf\u001b[0m\u001b[1;33m:\u001b[0m\u001b[1;33m\u001b[0m\u001b[1;33m\u001b[0m\u001b[0m\n\u001b[0m\u001b[0;32m      2\u001b[0m     \u001b[0mxml\u001b[0m \u001b[1;33m=\u001b[0m \u001b[0mf\u001b[0m\u001b[1;33m.\u001b[0m\u001b[0mread\u001b[0m\u001b[1;33m(\u001b[0m\u001b[1;33m)\u001b[0m\u001b[1;33m\u001b[0m\u001b[1;33m\u001b[0m\u001b[0m\n\u001b[0;32m      3\u001b[0m \u001b[1;33m\u001b[0m\u001b[0m\n\u001b[0;32m      4\u001b[0m \u001b[0mproblem\u001b[0m \u001b[1;33m=\u001b[0m \u001b[0metree\u001b[0m\u001b[1;33m.\u001b[0m\u001b[0mparse\u001b[0m\u001b[1;33m(\u001b[0m\u001b[0mxml\u001b[0m\u001b[1;33m)\u001b[0m\u001b[1;33m\u001b[0m\u001b[1;33m\u001b[0m\u001b[0m\n",
      "\u001b[1;31mFileNotFoundError\u001b[0m: [Errno 2] No such file or directory: 'problem'"
     ]
    }
   ],
   "source": [
    "with open('problem') as f:\n",
    "    xml = f.read()\n",
    "    \n",
    "problem = etree.parse(xml)"
   ]
  },
  {
   "cell_type": "code",
   "execution_count": null,
   "id": "c2edc933",
   "metadata": {},
   "outputs": [],
   "source": [
    "problem.xpath('/HomerProblem/Controllers/Controller/Abbreviation')[0].text = 'DC'"
   ]
  },
  {
   "cell_type": "code",
   "execution_count": null,
   "id": "e3a6e6ac",
   "metadata": {},
   "outputs": [],
   "source": [
    "problem.xpath('/HomerProblem/Controllers/Controller/Abbreviation')[0].text"
   ]
  },
  {
   "cell_type": "code",
   "execution_count": null,
   "id": "e065f71a",
   "metadata": {},
   "outputs": [],
   "source": [
    "new_data = {'/HomerProblem/Controllers/Controller/Abbreviation': 'AC',\n",
    "            '/HomerProblem/FuelResources/Fuel/Name': 'Ethanol'}\n",
    "for path, value in new_data.items():\n",
    "    print(path, ' => ', problem.xpath(path)[0].text)\n",
    "    problem.xpath(path)[0].text = value\n",
    "    print(path, ' => ', problem.xpath(path)[0].text)\n"
   ]
  },
  {
   "cell_type": "code",
   "execution_count": null,
   "id": "170f2dfc",
   "metadata": {},
   "outputs": [],
   "source": []
  }
 ],
 "metadata": {
  "kernelspec": {
   "display_name": "Python 3 (ipykernel)",
   "language": "python",
   "name": "python3"
  },
  "language_info": {
   "codemirror_mode": {
    "name": "ipython",
    "version": 3
   },
   "file_extension": ".py",
   "mimetype": "text/x-python",
   "name": "python",
   "nbconvert_exporter": "python",
   "pygments_lexer": "ipython3",
   "version": "3.9.7"
  }
 },
 "nbformat": 4,
 "nbformat_minor": 5
}
